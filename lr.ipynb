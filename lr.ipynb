{
  "nbformat": 4,
  "nbformat_minor": 0,
  "metadata": {
    "colab": {
      "provenance": [],
      "authorship_tag": "ABX9TyPLm37e33BsiLN8fFcgVCk3",
      "include_colab_link": true
    },
    "kernelspec": {
      "name": "python3",
      "display_name": "Python 3"
    },
    "language_info": {
      "name": "python"
    }
  },
  "cells": [
    {
      "cell_type": "markdown",
      "metadata": {
        "id": "view-in-github",
        "colab_type": "text"
      },
      "source": [
        "<a href=\"https://colab.research.google.com/github/hussaintaniya/stockpred2/blob/main/lr.ipynb\" target=\"_parent\"><img src=\"https://colab.research.google.com/assets/colab-badge.svg\" alt=\"Open In Colab\"/></a>"
      ]
    },
    {
      "cell_type": "code",
      "execution_count": null,
      "metadata": {
        "id": "ZtNkB7BfvuJb"
      },
      "outputs": [],
      "source": [
        "#using \"Linear regression\" to predict Microsoft stocks from 1986-03-12 to 2022-06-24"
      ]
    },
    {
      "cell_type": "code",
      "source": [
        "#import libraries\n",
        "import pandas as pd\n",
        "import numpy as np\n",
        "from sklearn import metrics\n",
        "import matplotlib.pyplot as plt\n",
        "%matplotlib inline\n",
        "from sklearn.model_selection import train_test_split\n",
        "from sklearn.linear_model import LinearRegression\n",
        "from sklearn.metrics import mean_squared_error,r2_score,mean_absolute_error\n",
        "import math"
      ],
      "metadata": {
        "id": "eWXwRs3k2KUx"
      },
      "execution_count": null,
      "outputs": []
    },
    {
      "cell_type": "code",
      "source": [
        "#import data and display it"
      ],
      "metadata": {
        "id": "IjDUl3mb2sCD"
      },
      "execution_count": null,
      "outputs": []
    },
    {
      "cell_type": "code",
      "source": [
        "data=pd.read_csv(\"MSFT.csv\")\n",
        "print(data)"
      ],
      "metadata": {
        "colab": {
          "base_uri": "https://localhost:8080/"
        },
        "id": "GOc3Vrq12vlh",
        "outputId": "17ced90f-7de8-4436-a01f-15cb9769f323"
      },
      "execution_count": null,
      "outputs": [
        {
          "output_type": "stream",
          "name": "stdout",
          "text": [
            "            Date        Open        High         Low       Close   Adj Close  \\\n",
            "0     1986-03-13    0.088542    0.101563    0.088542    0.097222    0.061109   \n",
            "1     1986-03-14    0.097222    0.102431    0.097222    0.100694    0.063292   \n",
            "2     1986-03-17    0.100694    0.103299    0.100694    0.102431    0.064384   \n",
            "3     1986-03-18    0.102431    0.103299    0.098958    0.099826    0.062746   \n",
            "4     1986-03-19    0.099826    0.100694    0.097222    0.098090    0.061655   \n",
            "...          ...         ...         ...         ...         ...         ...   \n",
            "9141  2022-06-17  244.699997  250.500000  244.029999  247.649994  247.649994   \n",
            "9142  2022-06-21  250.259995  254.750000  249.509995  253.740005  253.740005   \n",
            "9143  2022-06-22  251.889999  257.170013  250.369995  253.130005  253.130005   \n",
            "9144  2022-06-23  255.570007  259.369995  253.630005  258.859985  258.859985   \n",
            "9145  2022-06-24  261.809998  267.980011  261.720001  267.700012  267.700012   \n",
            "\n",
            "          Volume  \n",
            "0     1031788800  \n",
            "1      308160000  \n",
            "2      133171200  \n",
            "3       67766400  \n",
            "4       47894400  \n",
            "...          ...  \n",
            "9141    42800400  \n",
            "9142    29928300  \n",
            "9143    25939900  \n",
            "9144    25861400  \n",
            "9145    33900700  \n",
            "\n",
            "[9146 rows x 7 columns]\n"
          ]
        }
      ]
    },
    {
      "cell_type": "code",
      "source": [
        "#index the data to date instead of the serial no."
      ],
      "metadata": {
        "id": "yaw9regG3Yp2"
      },
      "execution_count": null,
      "outputs": []
    },
    {
      "cell_type": "code",
      "source": [
        "data.set_index(pd.DatetimeIndex(data['Date']),inplace=True)"
      ],
      "metadata": {
        "id": "1Tc7UjGn3z_u"
      },
      "execution_count": null,
      "outputs": []
    },
    {
      "cell_type": "code",
      "source": [
        "#trim the data. we will only keep the adj close column as it is used to analysie\n",
        "#historical returns"
      ],
      "metadata": {
        "id": "bMgyQRBC4AmQ"
      },
      "execution_count": null,
      "outputs": []
    },
    {
      "cell_type": "code",
      "source": [
        "data=data[['Adj Close']]\n",
        "print(data)"
      ],
      "metadata": {
        "colab": {
          "base_uri": "https://localhost:8080/"
        },
        "id": "Mm_qQyU_7NpV",
        "outputId": "06e48011-7f67-4289-91fb-2b9ac493c317"
      },
      "execution_count": null,
      "outputs": [
        {
          "output_type": "stream",
          "name": "stdout",
          "text": [
            "             Adj Close\n",
            "Date                  \n",
            "1986-03-13    0.061109\n",
            "1986-03-14    0.063292\n",
            "1986-03-17    0.064384\n",
            "1986-03-18    0.062746\n",
            "1986-03-19    0.061655\n",
            "...                ...\n",
            "2022-06-17  247.649994\n",
            "2022-06-21  253.740005\n",
            "2022-06-22  253.130005\n",
            "2022-06-23  258.859985\n",
            "2022-06-24  267.700012\n",
            "\n",
            "[9146 rows x 1 columns]\n"
          ]
        }
      ]
    },
    {
      "cell_type": "code",
      "source": [
        "#plot adj close data against time"
      ],
      "metadata": {
        "id": "abOfUrB67W02"
      },
      "execution_count": null,
      "outputs": []
    },
    {
      "cell_type": "code",
      "source": [
        "plt.plot(data,color='m')\n",
        "plt.xlabel('Date')\n",
        "plt.ylabel('Price')\n",
        "plt.title('Adj closing price against time')\n",
        "plt.legend(['Adj close'])\n",
        "plt.grid(which='major',color='k',linestyle='-.',linewidth='0.5')\n",
        "plt.show()"
      ],
      "metadata": {
        "colab": {
          "base_uri": "https://localhost:8080/",
          "height": 295
        },
        "id": "W_Bv7C_z7cQ5",
        "outputId": "bfabf63c-5510-44d4-bef9-e8557b3fe943"
      },
      "execution_count": null,
      "outputs": [
        {
          "output_type": "display_data",
          "data": {
            "text/plain": [
              "<Figure size 432x288 with 1 Axes>"
            ],
            "image/png": "[encoded data removed]"
          },
          "metadata": {
            "needs_background": "light"
          }
        }
      ]
    },
    {
      "cell_type": "code",
      "source": [
        "#add moving average"
      ],
      "metadata": {
        "id": "fSi4IC6oAOuy"
      },
      "execution_count": null,
      "outputs": []
    },
    {
      "cell_type": "code",
      "source": [
        "! pip install pandas-ta"
      ],
      "metadata": {
        "colab": {
          "base_uri": "https://localhost:8080/"
        },
        "id": "eHTz5OhMAieL",
        "outputId": "8fccab54-0208-4cee-adb5-3567abb25abc"
      },
      "execution_count": null,
      "outputs": [
        {
          "output_type": "stream",
          "name": "stdout",
          "text": [
            "Looking in indexes: https://pypi.org/simple, https://us-python.pkg.dev/colab-wheels/public/simple/\n",
            "Collecting pandas-ta\n",
            "  Downloading pandas_ta-0.3.14b.tar.gz (115 kB)\n",
            "\u001b[K     |████████████████████████████████| 115 kB 5.1 MB/s \n",
            "\u001b[?25hRequirement already satisfied: pandas in /usr/local/lib/python3.7/dist-packages (from pandas-ta) (1.3.5)\n",
            "Requirement already satisfied: pytz>=2017.3 in /usr/local/lib/python3.7/dist-packages (from pandas->pandas-ta) (2022.1)\n",
            "Requirement already satisfied: numpy>=1.17.3 in /usr/local/lib/python3.7/dist-packages (from pandas->pandas-ta) (1.21.6)\n",
            "Requirement already satisfied: python-dateutil>=2.7.3 in /usr/local/lib/python3.7/dist-packages (from pandas->pandas-ta) (2.8.2)\n",
            "Requirement already satisfied: six>=1.5 in /usr/local/lib/python3.7/dist-packages (from python-dateutil>=2.7.3->pandas->pandas-ta) (1.15.0)\n",
            "Building wheels for collected packages: pandas-ta\n",
            "  Building wheel for pandas-ta (setup.py) ... \u001b[?25l\u001b[?25hdone\n",
            "  Created wheel for pandas-ta: filename=pandas_ta-0.3.14b0-py3-none-any.whl size=218923 sha256=a037d120919773445950512c45b7a3ce9f7d542bca978e3e921988d24e88dd4f\n",
            "  Stored in directory: /root/.cache/pip/wheels/0b/81/f0/cca85757840e4616a2c6b9fe12569d97d324c27cac60724c58\n",
            "Successfully built pandas-ta\n",
            "Installing collected packages: pandas-ta\n",
            "Successfully installed pandas-ta-0.3.14b0\n"
          ]
        }
      ]
    },
    {
      "cell_type": "code",
      "source": [
        "import pandas_ta\n",
        "data.ta.ema(close='Adj Close',length=10,append=True)"
      ],
      "metadata": {
        "colab": {
          "base_uri": "https://localhost:8080/"
        },
        "id": "IxRxo0ccAUPV",
        "outputId": "92904ad8-01d0-4f1b-c6c3-8fff82a8531e"
      },
      "execution_count": null,
      "outputs": [
        {
          "output_type": "execute_result",
          "data": {
            "text/plain": [
              "Date\n",
              "1986-03-13           NaN\n",
              "1986-03-14           NaN\n",
              "1986-03-17           NaN\n",
              "1986-03-18           NaN\n",
              "1986-03-19           NaN\n",
              "                 ...    \n",
              "2022-06-17    253.630215\n",
              "2022-06-21    253.650177\n",
              "2022-06-22    253.555600\n",
              "2022-06-23    254.520034\n",
              "2022-06-24    256.916394\n",
              "Name: EMA_10, Length: 9146, dtype: float64"
            ]
          },
          "metadata": {},
          "execution_count": 9
        }
      ]
    },
    {
      "cell_type": "code",
      "source": [
        "print(data.head(10))"
      ],
      "metadata": {
        "colab": {
          "base_uri": "https://localhost:8080/"
        },
        "id": "HGFxyuZyBAqI",
        "outputId": "bece29b4-ec50-471d-f10a-e4a85f7885c3"
      },
      "execution_count": null,
      "outputs": [
        {
          "output_type": "stream",
          "name": "stdout",
          "text": [
            "            Adj Close    EMA_10\n",
            "Date                           \n",
            "1986-03-13   0.061109       NaN\n",
            "1986-03-14   0.063292       NaN\n",
            "1986-03-17   0.064384       NaN\n",
            "1986-03-18   0.062746       NaN\n",
            "1986-03-19   0.061655       NaN\n",
            "1986-03-20   0.060018       NaN\n",
            "1986-03-21   0.058381       NaN\n",
            "1986-03-24   0.056745       NaN\n",
            "1986-03-25   0.057836       NaN\n",
            "1986-03-26   0.059473  0.060564\n"
          ]
        }
      ]
    },
    {
      "cell_type": "code",
      "source": [
        "#as our first 9 values are nan, we will remove them as we dont want nan values"
      ],
      "metadata": {
        "id": "_4T9aYzWBIeS"
      },
      "execution_count": null,
      "outputs": []
    },
    {
      "cell_type": "code",
      "source": [
        "data=data.iloc[9:]\n",
        "print(data.head(10))"
      ],
      "metadata": {
        "colab": {
          "base_uri": "https://localhost:8080/"
        },
        "id": "5xKJSrpPBSD7",
        "outputId": "7c85b29d-9bb8-4e57-fb90-552091a4a46f"
      },
      "execution_count": null,
      "outputs": [
        {
          "output_type": "stream",
          "name": "stdout",
          "text": [
            "            Adj Close    EMA_10\n",
            "Date                           \n",
            "1986-03-26   0.059473  0.060564\n",
            "1986-03-27   0.060564  0.060564\n",
            "1986-03-31   0.060018  0.060465\n",
            "1986-04-01   0.059473  0.060284\n",
            "1986-04-02   0.060018  0.060236\n",
            "1986-04-03   0.060564  0.060296\n",
            "1986-04-04   0.060564  0.060344\n",
            "1986-04-07   0.059473  0.060186\n",
            "1986-04-08   0.060018  0.060155\n",
            "1986-04-09   0.061109  0.060329\n"
          ]
        }
      ]
    },
    {
      "cell_type": "code",
      "source": [
        "plt.plot(data)\n",
        "plt.xlabel('Date')\n",
        "plt.ylabel('Price')\n",
        "plt.title(\"Adj closing price, ema against time\")\n",
        "plt.legend(['Adj close','Ema'])\n",
        "plt.grid(which='major',color='k',linestyle='-.',linewidth=0.5)\n",
        "plt.show()"
      ],
      "metadata": {
        "colab": {
          "base_uri": "https://localhost:8080/",
          "height": 295
        },
        "id": "AszOA_QuBayW",
        "outputId": "e5cebb62-2168-432c-e46c-56d90973e509"
      },
      "execution_count": null,
      "outputs": [
        {
          "output_type": "display_data",
          "data": {
            "text/plain": [
              "<Figure size 432x288 with 1 Axes>"
            ],
            "image/png": "[encoded data removed]"
          },
          "metadata": {
            "needs_background": "light"
          }
        }
      ]
    },
    {
      "cell_type": "code",
      "source": [
        "#splitting our data into test and train"
      ],
      "metadata": {
        "id": "THNODSgcCHcY"
      },
      "execution_count": null,
      "outputs": []
    },
    {
      "cell_type": "code",
      "source": [
        "X_train, X_test, y_train, y_test = train_test_split(data[['Adj Close']], data[['EMA_10']], test_size=.2)"
      ],
      "metadata": {
        "id": "CalFEHoLCWVl"
      },
      "execution_count": null,
      "outputs": []
    },
    {
      "cell_type": "code",
      "source": [
        "#training our linear regression model"
      ],
      "metadata": {
        "id": "H50Re-_lGxTx"
      },
      "execution_count": null,
      "outputs": []
    },
    {
      "cell_type": "code",
      "source": [
        "model= LinearRegression()\n",
        "model.fit(X_train,y_train)\n",
        "y_pred=model.predict(X_test)\n",
        "print('tested data')\n",
        "print(X_test)\n",
        "print('Predicted data')\n",
        "print(y_pred)"
      ],
      "metadata": {
        "colab": {
          "base_uri": "https://localhost:8080/"
        },
        "id": "1jgTizCCG4zG",
        "outputId": "3a577aba-0679-40df-b1e6-dc1deaa23a5d"
      },
      "execution_count": null,
      "outputs": [
        {
          "output_type": "stream",
          "name": "stdout",
          "text": [
            "tested data\n",
            "             Adj Close\n",
            "Date                  \n",
            "1996-09-04    4.846749\n",
            "2022-05-16  260.892365\n",
            "2017-05-23   64.329384\n",
            "2021-05-28  247.657730\n",
            "2016-05-03   45.172836\n",
            "...                ...\n",
            "2012-10-24   22.930941\n",
            "2004-05-18   16.379156\n",
            "1995-06-14    3.292547\n",
            "1994-11-16    2.538773\n",
            "2007-09-21   21.067013\n",
            "\n",
            "[1828 rows x 1 columns]\n",
            "Predicted data\n",
            "[[  4.84443248]\n",
            " [259.92866651]\n",
            " [ 64.10372629]\n",
            " ...\n",
            " [  3.29606609]\n",
            " [  2.5451223 ]\n",
            " [ 21.00379378]]\n"
          ]
        }
      ]
    },
    {
      "cell_type": "code",
      "source": [
        "#mean absolute error\n",
        "print(\"Mean Absolute Error: \", mean_absolute_error(y_test,y_pred))"
      ],
      "metadata": {
        "colab": {
          "base_uri": "https://localhost:8080/"
        },
        "id": "QTRdCvJ0Iy0a",
        "outputId": "6e9e6228-342e-49f8-8644-527dd99dbc7e"
      },
      "execution_count": null,
      "outputs": [
        {
          "output_type": "stream",
          "name": "stdout",
          "text": [
            "Mean Absolute Error:  0.6289963093274541\n"
          ]
        }
      ]
    },
    {
      "cell_type": "code",
      "source": [
        "# Mean squared error\n",
        "print(\"Mean squared error:\",mean_squared_error(y_test,y_pred) )"
      ],
      "metadata": {
        "colab": {
          "base_uri": "https://localhost:8080/"
        },
        "id": "-UMw7It8MHac",
        "outputId": "e692f1b1-c6a0-4ad6-8100-625a46a69d78"
      },
      "execution_count": null,
      "outputs": [
        {
          "output_type": "stream",
          "name": "stdout",
          "text": [
            "Mean squared error: 2.5209936587680524\n"
          ]
        }
      ]
    },
    {
      "cell_type": "code",
      "source": [
        "#r2 score\n",
        "print(\"r2 score:\",r2_score(y_test,y_pred))"
      ],
      "metadata": {
        "colab": {
          "base_uri": "https://localhost:8080/"
        },
        "id": "7kFVlzIzMP99",
        "outputId": "e686bb57-6b64-4a44-d406-ae1e41bc5c8c"
      },
      "execution_count": null,
      "outputs": [
        {
          "output_type": "stream",
          "name": "stdout",
          "text": [
            "r2 score: 0.9993723503852266\n"
          ]
        }
      ]
    },
    {
      "cell_type": "code",
      "source": [
        "#add actual values with the predicted values in a dataframe and plot"
      ],
      "metadata": {
        "id": "DjaJtZHaMk_j"
      },
      "execution_count": null,
      "outputs": []
    },
    {
      "cell_type": "code",
      "source": [
        "df_pred=pd.DataFrame(y_test.values,columns=['Actual'],index=y_test.index)\n",
        "df_pred['Predicted']=y_pred\n",
        "\n",
        "df_pred"
      ],
      "metadata": {
        "colab": {
          "base_uri": "https://localhost:8080/",
          "height": 455
        },
        "id": "VEeu2YxANVVL",
        "outputId": "f83597c8-c76f-45d9-acab-37fa4ddbe990"
      },
      "execution_count": null,
      "outputs": [
        {
          "output_type": "execute_result",
          "data": {
            "text/plain": [
              "                Actual   Predicted\n",
              "Date                              \n",
              "1996-09-04    4.859022    4.844432\n",
              "2022-05-16  266.760967  259.928667\n",
              "2017-05-23   63.909882   64.103726\n",
              "2021-05-28  246.571192  246.743724\n",
              "2016-05-03   46.737971   45.019106\n",
              "...                ...         ...\n",
              "2012-10-24   23.615625   22.860723\n",
              "2004-05-18   16.442582   16.333538\n",
              "1995-06-14    3.306445    3.296066\n",
              "1994-11-16    2.490934    2.545122\n",
              "2007-09-21   21.113290   21.003794\n",
              "\n",
              "[1828 rows x 2 columns]"
            ],
            "text/html": [
              "\n",
              "  <div id=\"df-1b62fef8-3b19-4044-9c5a-5b48bd81facb\">\n",
              "    <div class=\"colab-df-container\">\n",
              "      <div>\n",
              "<style scoped>\n",
              "    .dataframe tbody tr th:only-of-type {\n",
              "        vertical-align: middle;\n",
              "    }\n",
              "\n",
              "    .dataframe tbody tr th {\n",
              "        vertical-align: top;\n",
              "    }\n",
              "\n",
              "    .dataframe thead th {\n",
              "        text-align: right;\n",
              "    }\n",
              "</style>\n",
              "<table border=\"1\" class=\"dataframe\">\n",
              "  <thead>\n",
              "    <tr style=\"text-align: right;\">\n",
              "      <th></th>\n",
              "      <th>Actual</th>\n",
              "      <th>Predicted</th>\n",
              "    </tr>\n",
              "    <tr>\n",
              "      <th>Date</th>\n",
              "      <th></th>\n",
              "      <th></th>\n",
              "    </tr>\n",
              "  </thead>\n",
              "  <tbody>\n",
              "    <tr>\n",
              "      <th>1996-09-04</th>\n",
              "      <td>4.859022</td>\n",
              "      <td>4.844432</td>\n",
              "    </tr>\n",
              "    <tr>\n",
              "      <th>2022-05-16</th>\n",
              "      <td>266.760967</td>\n",
              "      <td>259.928667</td>\n",
              "    </tr>\n",
              "    <tr>\n",
              "      <th>2017-05-23</th>\n",
              "      <td>63.909882</td>\n",
              "      <td>64.103726</td>\n",
              "    </tr>\n",
              "    <tr>\n",
              "      <th>2021-05-28</th>\n",
              "      <td>246.571192</td>\n",
              "      <td>246.743724</td>\n",
              "    </tr>\n",
              "    <tr>\n",
              "      <th>2016-05-03</th>\n",
              "      <td>46.737971</td>\n",
              "      <td>45.019106</td>\n",
              "    </tr>\n",
              "    <tr>\n",
              "      <th>...</th>\n",
              "      <td>...</td>\n",
              "      <td>...</td>\n",
              "    </tr>\n",
              "    <tr>\n",
              "      <th>2012-10-24</th>\n",
              "      <td>23.615625</td>\n",
              "      <td>22.860723</td>\n",
              "    </tr>\n",
              "    <tr>\n",
              "      <th>2004-05-18</th>\n",
              "      <td>16.442582</td>\n",
              "      <td>16.333538</td>\n",
              "    </tr>\n",
              "    <tr>\n",
              "      <th>1995-06-14</th>\n",
              "      <td>3.306445</td>\n",
              "      <td>3.296066</td>\n",
              "    </tr>\n",
              "    <tr>\n",
              "      <th>1994-11-16</th>\n",
              "      <td>2.490934</td>\n",
              "      <td>2.545122</td>\n",
              "    </tr>\n",
              "    <tr>\n",
              "      <th>2007-09-21</th>\n",
              "      <td>21.113290</td>\n",
              "      <td>21.003794</td>\n",
              "    </tr>\n",
              "  </tbody>\n",
              "</table>\n",
              "<p>1828 rows × 2 columns</p>\n",
              "</div>\n",
              "      <button class=\"colab-df-convert\" onclick=\"convertToInteractive('df-1b62fef8-3b19-4044-9c5a-5b48bd81facb')\"\n",
              "              title=\"Convert this dataframe to an interactive table.\"\n",
              "              style=\"display:none;\">\n",
              "        \n",
              "  <svg xmlns=\"http://www.w3.org/2000/svg\" height=\"24px\"viewBox=\"0 0 24 24\"\n",
              "       width=\"24px\">\n",
              "    <path d=\"M0 0h24v24H0V0z\" fill=\"none\"/>\n",
              "    <path d=\"M18.56 5.44l.94 2.06.94-2.06 2.06-.94-2.06-.94-.94-2.06-.94 2.06-2.06.94zm-11 1L8.5 8.5l.94-2.06 2.06-.94-2.06-.94L8.5 2.5l-.94 2.06-2.06.94zm10 10l.94 2.06.94-2.06 2.06-.94-2.06-.94-.94-2.06-.94 2.06-2.06.94z\"/><path d=\"M17.41 7.96l-1.37-1.37c-.4-.4-.92-.59-1.43-.59-.52 0-1.04.2-1.43.59L10.3 9.45l-7.72 7.72c-.78.78-.78 2.05 0 2.83L4 21.41c.39.39.9.59 1.41.59.51 0 1.02-.2 1.41-.59l7.78-7.78 2.81-2.81c.8-.78.8-2.07 0-2.86zM5.41 20L4 18.59l7.72-7.72 1.47 1.35L5.41 20z\"/>\n",
              "  </svg>\n",
              "      </button>\n",
              "      \n",
              "  <style>\n",
              "    .colab-df-container {\n",
              "      display:flex;\n",
              "      flex-wrap:wrap;\n",
              "      gap: 12px;\n",
              "    }\n",
              "\n",
              "    .colab-df-convert {\n",
              "      background-color: #E8F0FE;\n",
              "      border: none;\n",
              "      border-radius: 50%;\n",
              "      cursor: pointer;\n",
              "      display: none;\n",
              "      fill: #1967D2;\n",
              "      height: 32px;\n",
              "      padding: 0 0 0 0;\n",
              "      width: 32px;\n",
              "    }\n",
              "\n",
              "    .colab-df-convert:hover {\n",
              "      background-color: #E2EBFA;\n",
              "      box-shadow: 0px 1px 2px rgba(60, 64, 67, 0.3), 0px 1px 3px 1px rgba(60, 64, 67, 0.15);\n",
              "      fill: #174EA6;\n",
              "    }\n",
              "\n",
              "    [theme=dark] .colab-df-convert {\n",
              "      background-color: #3B4455;\n",
              "      fill: #D2E3FC;\n",
              "    }\n",
              "\n",
              "    [theme=dark] .colab-df-convert:hover {\n",
              "      background-color: #434B5C;\n",
              "      box-shadow: 0px 1px 3px 1px rgba(0, 0, 0, 0.15);\n",
              "      filter: drop-shadow(0px 1px 2px rgba(0, 0, 0, 0.3));\n",
              "      fill: #FFFFFF;\n",
              "    }\n",
              "  </style>\n",
              "\n",
              "      <script>\n",
              "        const buttonEl =\n",
              "          document.querySelector('#df-1b62fef8-3b19-4044-9c5a-5b48bd81facb button.colab-df-convert');\n",
              "        buttonEl.style.display =\n",
              "          google.colab.kernel.accessAllowed ? 'block' : 'none';\n",
              "\n",
              "        async function convertToInteractive(key) {\n",
              "          const element = document.querySelector('#df-1b62fef8-3b19-4044-9c5a-5b48bd81facb');\n",
              "          const dataTable =\n",
              "            await google.colab.kernel.invokeFunction('convertToInteractive',\n",
              "                                                     [key], {});\n",
              "          if (!dataTable) return;\n",
              "\n",
              "          const docLinkHtml = 'Like what you see? Visit the ' +\n",
              "            '<a target=\"_blank\" href=https://colab.research.google.com/notebooks/data_table.ipynb>data table notebook</a>'\n",
              "            + ' to learn more about interactive tables.';\n",
              "          element.innerHTML = '';\n",
              "          dataTable['output_type'] = 'display_data';\n",
              "          await google.colab.output.renderOutput(dataTable, element);\n",
              "          const docLink = document.createElement('div');\n",
              "          docLink.innerHTML = docLinkHtml;\n",
              "          element.appendChild(docLink);\n",
              "        }\n",
              "      </script>\n",
              "    </div>\n",
              "  </div>\n",
              "  "
            ]
          },
          "metadata": {},
          "execution_count": 59
        }
      ]
    },
    {
      "cell_type": "code",
      "source": [
        "dfpred=df_pred.sort_values(by=['Date'])"
      ],
      "metadata": {
        "id": "WuqdaT1IZ8Gc"
      },
      "execution_count": null,
      "outputs": []
    },
    {
      "cell_type": "code",
      "source": [
        "#plot the data\n",
        "dfp=dfpred.tail(60)\n",
        "dfp[['Actual','Predicted']].plot()"
      ],
      "metadata": {
        "colab": {
          "base_uri": "https://localhost:8080/",
          "height": 296
        },
        "id": "gH-Bqv_WRLEg",
        "outputId": "2d8ed499-fb1d-497d-ec68-35069fcc95f8"
      },
      "execution_count": null,
      "outputs": [
        {
          "output_type": "execute_result",
          "data": {
            "text/plain": [
              "<matplotlib.axes._subplots.AxesSubplot at 0x7fcdfbd6b110>"
            ]
          },
          "metadata": {},
          "execution_count": 58
        },
        {
          "output_type": "display_data",
          "data": {
            "text/plain": [
              "<Figure size 432x288 with 1 Axes>"
            ],
            "image/png": "[encoded data removed]"
          },
          "metadata": {
            "needs_background": "light"
          }
        }
      ]
    }
  ]
}